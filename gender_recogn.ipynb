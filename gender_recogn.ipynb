{
  "nbformat": 4,
  "nbformat_minor": 0,
  "metadata": {
    "colab": {
      "provenance": [],
      "collapsed_sections": [
        "IjoY4FhgCgBS",
        "fQ0GQl5ra_dH",
        "vc6KB_rwzWvn",
        "4Gc4Eys9S8VO"
      ]
    },
    "kernelspec": {
      "name": "python3",
      "display_name": "Python 3"
    },
    "language_info": {
      "name": "python"
    }
  },
  "cells": [
    {
      "cell_type": "markdown",
      "source": [
        "### Data preparation"
      ],
      "metadata": {
        "id": "5kIoJQi-zSjQ"
      }
    },
    {
      "cell_type": "code",
      "execution_count": null,
      "metadata": {
        "id": "BVota6_ZZxcA"
      },
      "outputs": [],
      "source": [
        "import os\n",
        "import re\n",
        "import pandas as pd"
      ]
    },
    {
      "cell_type": "code",
      "source": [
        "from google.colab import drive\n",
        "drive.mount('/content/drive')"
      ],
      "metadata": {
        "colab": {
          "base_uri": "https://localhost:8080/"
        },
        "id": "dp04fr5WaL6G",
        "outputId": "9e461615-3594-449f-d216-128f3fb5c4c3"
      },
      "execution_count": null,
      "outputs": [
        {
          "output_type": "stream",
          "name": "stdout",
          "text": [
            "Drive already mounted at /content/drive; to attempt to forcibly remount, call drive.mount(\"/content/drive\", force_remount=True).\n"
          ]
        }
      ]
    },
    {
      "cell_type": "code",
      "source": [
        "def preprocess(text):\n",
        "  text = text.lower()\n",
        "  text = re.sub(r'\\d+', '', text)\n",
        "  text = re.sub(r'[^\\w\\s]', '', text)\n",
        "  text = re.sub(r'\\s+', ' ', text)\n",
        "  return text.strip()"
      ],
      "metadata": {
        "id": "-etVfTDUnYMf"
      },
      "execution_count": null,
      "outputs": []
    },
    {
      "cell_type": "markdown",
      "source": [
        "#### Books"
      ],
      "metadata": {
        "id": "IjoY4FhgCgBS"
      }
    },
    {
      "cell_type": "code",
      "source": [
        "lit_corpus_male = []\n",
        "lit_corpus_female = []\n",
        "for root, dirs, files in os.walk('/content/drive/MyDrive/Master_s/HLT/data/books'):\n",
        "  for file in files:\n",
        "    if file.startswith('m_'):\n",
        "      with open(os.path.join(root, file), 'r') as f:\n",
        "        lit_corpus_male.append(f.read())\n",
        "    else:\n",
        "      with open(os.path.join(root, file), 'r') as f:\n",
        "        lit_corpus_female.append(f.read())"
      ],
      "metadata": {
        "id": "CO_FlCWfcX33"
      },
      "execution_count": null,
      "outputs": []
    },
    {
      "cell_type": "code",
      "source": [
        "paragraphs_male = []\n",
        "paragraphs_female = []\n",
        "for i in range(len(lit_corpus_male)):\n",
        "  paragraphs_male.extend([preprocess(paragraph) for paragraph in lit_corpus_male[i].split('\\n\\n')])\n",
        "for i in range(len(lit_corpus_female)):\n",
        "  paragraphs_female.extend([preprocess(paragraph) for paragraph in lit_corpus_female[i].split('\\n\\n')])"
      ],
      "metadata": {
        "id": "MGpEgcEccrB8"
      },
      "execution_count": null,
      "outputs": []
    },
    {
      "cell_type": "code",
      "source": [
        "df_books = pd.concat([pd.DataFrame({'paragraph': paragraphs_male, 'gender': 0}),\n",
        "                      pd.DataFrame({'paragraph': paragraphs_female, 'gender': 1})],\n",
        "                     ignore_index=True)"
      ],
      "metadata": {
        "id": "ruJJ6-LjdRNa"
      },
      "execution_count": null,
      "outputs": []
    },
    {
      "cell_type": "code",
      "source": [
        "df_books['paragraph'] = df_books['paragraph'].apply(lambda x: x.strip())"
      ],
      "metadata": {
        "id": "IIhEOe5oxJPG"
      },
      "execution_count": null,
      "outputs": []
    },
    {
      "cell_type": "code",
      "source": [
        "df_books = df_books[df_books['paragraph'].apply(len) > 5].reset_index(drop=True)"
      ],
      "metadata": {
        "id": "0UK_s_RtsJvN"
      },
      "execution_count": null,
      "outputs": []
    },
    {
      "cell_type": "markdown",
      "source": [
        "#### Songs"
      ],
      "metadata": {
        "id": "vra0qFr-CrF4"
      }
    },
    {
      "cell_type": "code",
      "source": [
        "import zipfile"
      ],
      "metadata": {
        "id": "mopw_ureOGmM"
      },
      "execution_count": null,
      "outputs": []
    },
    {
      "cell_type": "code",
      "source": [
        "with zipfile.ZipFile('/content/drive/MyDrive/Master_s/HLT/data/songs/spotify_millsongdata.csv.zip', 'r') as z:\n",
        "    with z.open('spotify_millsongdata.csv') as f:\n",
        "        df_songs_spotify = pd.read_csv(f)"
      ],
      "metadata": {
        "id": "R-iTdNcPOJ0X"
      },
      "execution_count": null,
      "outputs": []
    },
    {
      "cell_type": "code",
      "source": [
        "with open ('/content/drive/MyDrive/Master_s/HLT/data/songs/male_songwriters', 'r') as f:\n",
        "  male_songwriters = f.readlines()\n",
        "with open ('/content/drive/MyDrive/Master_s/HLT/data/songs/female_songwriters', 'r') as f:\n",
        "  female_songwriters = f.readlines()"
      ],
      "metadata": {
        "id": "lq1jVU_dMlzB"
      },
      "execution_count": null,
      "outputs": []
    },
    {
      "cell_type": "code",
      "source": [
        "df_songs_spotify['gender'] = -1"
      ],
      "metadata": {
        "id": "DvUnQ5QVVT-m"
      },
      "execution_count": null,
      "outputs": []
    },
    {
      "cell_type": "code",
      "source": [
        "df_songs_spotify.loc[df_songs_spotify['artist'].isin([artist.strip() for artist in male_songwriters]), 'gender'] = 0\n",
        "df_songs_spotify.loc[df_songs_spotify['artist'].isin([artist.strip() for artist in female_songwriters]), 'gender'] = 1"
      ],
      "metadata": {
        "id": "6kFAiiNBMl5x"
      },
      "execution_count": null,
      "outputs": []
    },
    {
      "cell_type": "code",
      "source": [
        "df_songs_spotify = df_songs_spotify[df_songs_spotify['gender'].isin([0, 1])][['text', 'gender']].reset_index(drop=True)"
      ],
      "metadata": {
        "id": "m3Xz06jZCtC6"
      },
      "execution_count": null,
      "outputs": []
    },
    {
      "cell_type": "code",
      "source": [
        "new_rows = []\n",
        "for index, row in df_songs_spotify.iterrows():\n",
        "    paragraphs = row['text'].split('\\r\\n  \\r\\n')\n",
        "    for paragraph in paragraphs:\n",
        "        if paragraph.strip():\n",
        "            new_row = row.copy()\n",
        "            new_row['paragraph'] = preprocess(re.sub(r'\\[.*]', '', paragraph))\n",
        "            new_rows.append(new_row)"
      ],
      "metadata": {
        "id": "TLWzZWqPCs-9"
      },
      "execution_count": null,
      "outputs": []
    },
    {
      "cell_type": "code",
      "source": [
        "df_songs = pd.DataFrame(new_rows)"
      ],
      "metadata": {
        "id": "Jg1Q_rCfCs6B"
      },
      "execution_count": null,
      "outputs": []
    },
    {
      "cell_type": "code",
      "source": [
        "df_songs = df_songs[df_songs['paragraph'].apply(lambda x: 'lyrics' not in x)].reset_index(drop=True).drop(columns=['text'])"
      ],
      "metadata": {
        "id": "2_vtQFz4CswX"
      },
      "execution_count": null,
      "outputs": []
    },
    {
      "cell_type": "code",
      "source": [
        "df_songs = df_songs[df_songs['paragraph'].apply(len) > 5].reset_index(drop=True)"
      ],
      "metadata": {
        "id": "f1a0LKuGYiwm"
      },
      "execution_count": null,
      "outputs": []
    },
    {
      "cell_type": "markdown",
      "source": [
        "#### datasets statistics"
      ],
      "metadata": {
        "id": "fQ0GQl5ra_dH"
      }
    },
    {
      "cell_type": "code",
      "source": [
        "import nltk\n",
        "from nltk.tokenize import word_tokenize"
      ],
      "metadata": {
        "id": "_qIZFvhzYiqp"
      },
      "execution_count": null,
      "outputs": []
    },
    {
      "cell_type": "code",
      "source": [
        "nltk.download('punkt')"
      ],
      "metadata": {
        "colab": {
          "base_uri": "https://localhost:8080/"
        },
        "id": "qZtJdLPoZVAB",
        "outputId": "0053b9af-c5f9-48bc-ce69-032970721aee"
      },
      "execution_count": null,
      "outputs": [
        {
          "output_type": "stream",
          "name": "stderr",
          "text": [
            "[nltk_data] Downloading package punkt to /root/nltk_data...\n",
            "[nltk_data]   Unzipping tokenizers/punkt.zip.\n"
          ]
        },
        {
          "output_type": "execute_result",
          "data": {
            "text/plain": [
              "True"
            ]
          },
          "metadata": {},
          "execution_count": 39
        }
      ]
    },
    {
      "cell_type": "code",
      "source": [
        "df_books['paragraph'].apply(lambda text: len(word_tokenize(text))).describe()"
      ],
      "metadata": {
        "colab": {
          "base_uri": "https://localhost:8080/"
        },
        "id": "Ncszg4as7bxu",
        "outputId": "794065c2-ffee-4a2e-e020-6e1e631d6da6"
      },
      "execution_count": null,
      "outputs": [
        {
          "output_type": "execute_result",
          "data": {
            "text/plain": [
              "count    23240.000000\n",
              "mean        42.845740\n",
              "std         62.079005\n",
              "min          1.000000\n",
              "25%          9.000000\n",
              "50%         20.000000\n",
              "75%         52.000000\n",
              "max       1489.000000\n",
              "Name: paragraph, dtype: float64"
            ]
          },
          "metadata": {},
          "execution_count": 65
        }
      ]
    },
    {
      "cell_type": "code",
      "source": [
        "print(\"Tokens in books data: \", df_books['paragraph'].apply(lambda text: len(word_tokenize(text))).sum())"
      ],
      "metadata": {
        "colab": {
          "base_uri": "https://localhost:8080/"
        },
        "id": "dMVAMgNH7c9R",
        "outputId": "72e522b0-2845-4632-cf76-21af42801638"
      },
      "execution_count": null,
      "outputs": [
        {
          "output_type": "stream",
          "name": "stdout",
          "text": [
            "Tokens in books data:  995735\n"
          ]
        }
      ]
    },
    {
      "cell_type": "code",
      "source": [
        "df_songs['paragraph'].apply(lambda text: len(word_tokenize(text))).describe()"
      ],
      "metadata": {
        "colab": {
          "base_uri": "https://localhost:8080/"
        },
        "id": "KQLHPzja75h4",
        "outputId": "a1649f0a-b70b-45bd-ceb2-52ba3aae73f4"
      },
      "execution_count": null,
      "outputs": [
        {
          "output_type": "execute_result",
          "data": {
            "text/plain": [
              "count    18272.000000\n",
              "mean        36.611044\n",
              "std         32.870378\n",
              "min          1.000000\n",
              "25%         21.000000\n",
              "50%         30.000000\n",
              "75%         43.000000\n",
              "max        663.000000\n",
              "Name: paragraph, dtype: float64"
            ]
          },
          "metadata": {},
          "execution_count": 67
        }
      ]
    },
    {
      "cell_type": "code",
      "source": [
        "print(\"Tokens in songs data: \", df_songs['paragraph'].apply(lambda text: len(word_tokenize(text))).sum())"
      ],
      "metadata": {
        "colab": {
          "base_uri": "https://localhost:8080/"
        },
        "id": "YMcEyHfv76uH",
        "outputId": "10cec520-368f-4138-9e05-037babd6331c"
      },
      "execution_count": null,
      "outputs": [
        {
          "output_type": "stream",
          "name": "stdout",
          "text": [
            "Tokens in songs data:  668957\n"
          ]
        }
      ]
    },
    {
      "cell_type": "code",
      "source": [
        "df_books['gender'].value_counts()"
      ],
      "metadata": {
        "colab": {
          "base_uri": "https://localhost:8080/"
        },
        "id": "FtPe0FvWwxau",
        "outputId": "26525f4d-46a8-4a2e-ee5f-300d2d4078c0"
      },
      "execution_count": null,
      "outputs": [
        {
          "output_type": "execute_result",
          "data": {
            "text/plain": [
              "gender\n",
              "1    11702\n",
              "0    11538\n",
              "Name: count, dtype: int64"
            ]
          },
          "metadata": {},
          "execution_count": 69
        }
      ]
    },
    {
      "cell_type": "code",
      "source": [
        "df_songs['gender'].value_counts()"
      ],
      "metadata": {
        "colab": {
          "base_uri": "https://localhost:8080/"
        },
        "id": "jJMGgnq9wxXs",
        "outputId": "2013b95c-bc47-41bc-a51e-3ba3d2fead8e"
      },
      "execution_count": null,
      "outputs": [
        {
          "output_type": "execute_result",
          "data": {
            "text/plain": [
              "gender\n",
              "0    9180\n",
              "1    9092\n",
              "Name: count, dtype: int64"
            ]
          },
          "metadata": {},
          "execution_count": 70
        }
      ]
    },
    {
      "cell_type": "markdown",
      "source": [
        "### ML Models"
      ],
      "metadata": {
        "id": "vc6KB_rwzWvn"
      }
    },
    {
      "cell_type": "markdown",
      "source": [
        "#### features extraction"
      ],
      "metadata": {
        "id": "4Gc4Eys9S8VO"
      }
    },
    {
      "cell_type": "code",
      "source": [
        "from sklearn.feature_extraction.text import TfidfVectorizer"
      ],
      "metadata": {
        "id": "kMJrToOTSy4F"
      },
      "execution_count": null,
      "outputs": []
    },
    {
      "cell_type": "code",
      "source": [
        "vectorizer = TfidfVectorizer(max_features=5000)\n",
        "X_books = vectorizer.fit_transform(df_books['paragraph'])\n",
        "y_books = df_books['gender']"
      ],
      "metadata": {
        "id": "_4w9h3YGSy0S"
      },
      "execution_count": null,
      "outputs": []
    },
    {
      "cell_type": "code",
      "source": [
        "X_songs = vectorizer.fit_transform(df_songs['paragraph'])\n",
        "y_songs = df_songs['gender']"
      ],
      "metadata": {
        "id": "RR5XROlqS5Y3"
      },
      "execution_count": null,
      "outputs": []
    },
    {
      "cell_type": "markdown",
      "source": [
        "#### SVM"
      ],
      "metadata": {
        "id": "bxI_E7B4Pvd4"
      }
    },
    {
      "cell_type": "code",
      "source": [
        "from sklearn.svm import SVC\n",
        "from sklearn.metrics import classification_report, confusion_matrix, accuracy_score\n",
        "from sklearn.model_selection import cross_val_score, KFold, GridSearchCV"
      ],
      "metadata": {
        "id": "BciMlAhjzaNo"
      },
      "execution_count": null,
      "outputs": []
    },
    {
      "cell_type": "code",
      "source": [
        "svm_model_on_books = SVC(kernel='linear', random_state=5)\n",
        "svm_model_on_books.fit(X_books, y_books)\n",
        "y_pred = svm_model_on_books.predict(X_songs)"
      ],
      "metadata": {
        "id": "bXDuVchTAqr-"
      },
      "execution_count": null,
      "outputs": []
    },
    {
      "cell_type": "code",
      "source": [
        "accuracy_score(y_songs, y_pred)"
      ],
      "metadata": {
        "colab": {
          "base_uri": "https://localhost:8080/"
        },
        "id": "YVvk16HYnRQD",
        "outputId": "6c2d88f5-a27a-40bf-874a-24ff91b0ab60"
      },
      "execution_count": null,
      "outputs": [
        {
          "output_type": "execute_result",
          "data": {
            "text/plain": [
              "0.49934325744308233"
            ]
          },
          "metadata": {},
          "execution_count": 77
        }
      ]
    },
    {
      "cell_type": "code",
      "source": [
        "print(classification_report(y_songs, y_pred))"
      ],
      "metadata": {
        "colab": {
          "base_uri": "https://localhost:8080/"
        },
        "id": "kso0GqrXl4U5",
        "outputId": "f78ac71b-847b-4c5e-e227-d015756a5612"
      },
      "execution_count": null,
      "outputs": [
        {
          "output_type": "stream",
          "name": "stdout",
          "text": [
            "              precision    recall  f1-score   support\n",
            "\n",
            "           0       0.50      0.52      0.51      9180\n",
            "           1       0.50      0.48      0.49      9092\n",
            "\n",
            "    accuracy                           0.50     18272\n",
            "   macro avg       0.50      0.50      0.50     18272\n",
            "weighted avg       0.50      0.50      0.50     18272\n",
            "\n"
          ]
        }
      ]
    },
    {
      "cell_type": "code",
      "source": [
        "svm_model_on_songs = SVC(kernel='linear', random_state=5)\n",
        "svm_model_on_songs.fit(X_songs, y_songs)\n",
        "y_pred = svm_model_on_songs.predict(X_books)"
      ],
      "metadata": {
        "id": "Zh6gZ_KjvOBr"
      },
      "execution_count": null,
      "outputs": []
    },
    {
      "cell_type": "code",
      "source": [
        "accuracy_score(y_books, y_pred)"
      ],
      "metadata": {
        "colab": {
          "base_uri": "https://localhost:8080/"
        },
        "id": "fN4PKt4NvN6H",
        "outputId": "77eef180-0299-4696-fca6-2468386d066e"
      },
      "execution_count": null,
      "outputs": [
        {
          "output_type": "execute_result",
          "data": {
            "text/plain": [
              "0.4855421686746988"
            ]
          },
          "metadata": {},
          "execution_count": 80
        }
      ]
    },
    {
      "cell_type": "code",
      "source": [
        "print(classification_report(y_books, y_pred))"
      ],
      "metadata": {
        "colab": {
          "base_uri": "https://localhost:8080/"
        },
        "id": "iTMeXghvwGzl",
        "outputId": "7bd6802c-e9f6-40d6-cc89-103e139f4ae5"
      },
      "execution_count": null,
      "outputs": [
        {
          "output_type": "stream",
          "name": "stdout",
          "text": [
            "              precision    recall  f1-score   support\n",
            "\n",
            "           0       0.48      0.53      0.51     11538\n",
            "           1       0.49      0.44      0.46     11702\n",
            "\n",
            "    accuracy                           0.49     23240\n",
            "   macro avg       0.49      0.49      0.48     23240\n",
            "weighted avg       0.49      0.49      0.48     23240\n",
            "\n"
          ]
        }
      ]
    },
    {
      "cell_type": "markdown",
      "source": [
        "CV"
      ],
      "metadata": {
        "id": "LYfULQ7GvMZb"
      }
    },
    {
      "cell_type": "code",
      "source": [
        "kf = KFold(n_splits=5, shuffle=True, random_state=0)"
      ],
      "metadata": {
        "id": "L2OXAVmdcYqP"
      },
      "execution_count": null,
      "outputs": []
    },
    {
      "cell_type": "markdown",
      "source": [
        "cross-validation on books data:"
      ],
      "metadata": {
        "id": "ZWkKaFN8sLw6"
      }
    },
    {
      "cell_type": "code",
      "source": [
        "svm_model_cv_books = SVC(kernel='linear', random_state=5)"
      ],
      "metadata": {
        "id": "_9DdxqENtfho"
      },
      "execution_count": null,
      "outputs": []
    },
    {
      "cell_type": "code",
      "source": [
        "cv_scores = cross_val_score(svm_model_cv_books, X_books, y_books, cv=kf, scoring='accuracy')"
      ],
      "metadata": {
        "id": "eXdSCouGchfm"
      },
      "execution_count": null,
      "outputs": []
    },
    {
      "cell_type": "code",
      "source": [
        "print(f'Cross-validation scores: {cv_scores}')\n",
        "print(f'Mean cross-validation score: {cv_scores.mean()}')"
      ],
      "metadata": {
        "colab": {
          "base_uri": "https://localhost:8080/"
        },
        "id": "6xeQGlCFcix4",
        "outputId": "34e08478-d96e-4482-fc1f-07e596c5a425"
      },
      "execution_count": null,
      "outputs": [
        {
          "output_type": "stream",
          "name": "stdout",
          "text": [
            "Cross-validation scores: [0.86854561 0.86402754 0.86015491 0.85434596 0.86639415]\n",
            "Mean cross-validation score: 0.8626936316695353\n"
          ]
        }
      ]
    },
    {
      "cell_type": "markdown",
      "source": [
        "cross-validation on songs data:"
      ],
      "metadata": {
        "id": "ae_UcSy9sO-Z"
      }
    },
    {
      "cell_type": "code",
      "source": [
        "svm_model_cv_songs = SVC(kernel='linear', random_state=5)"
      ],
      "metadata": {
        "id": "hwM7uMpqt8TA"
      },
      "execution_count": null,
      "outputs": []
    },
    {
      "cell_type": "code",
      "source": [
        "cv_scores = cross_val_score(svm_model_cv_songs, X_songs, y_songs, cv=kf, scoring='accuracy')"
      ],
      "metadata": {
        "id": "tTHQ4hK_sPc3"
      },
      "execution_count": null,
      "outputs": []
    },
    {
      "cell_type": "code",
      "source": [
        "print(f'Cross-validation scores: {cv_scores}')\n",
        "print(f'Mean cross-validation score: {cv_scores.mean()}')"
      ],
      "metadata": {
        "colab": {
          "base_uri": "https://localhost:8080/"
        },
        "id": "v0CPZw0JsRjQ",
        "outputId": "5be160e6-594e-42ff-989f-b4f7095c29ca"
      },
      "execution_count": null,
      "outputs": [
        {
          "output_type": "stream",
          "name": "stdout",
          "text": [
            "Cross-validation scores: [0.71737346 0.7253078  0.7194855  0.72632731 0.71975917]\n",
            "Mean cross-validation score: 0.721650646893347\n"
          ]
        }
      ]
    },
    {
      "cell_type": "markdown",
      "source": [
        "#### Naive Bayes"
      ],
      "metadata": {
        "id": "Zy_v8258Agbe"
      }
    },
    {
      "cell_type": "code",
      "source": [
        "from sklearn.naive_bayes import MultinomialNB"
      ],
      "metadata": {
        "id": "J92A5KEodrLt"
      },
      "execution_count": null,
      "outputs": []
    },
    {
      "cell_type": "code",
      "source": [
        "nb_model_on_books = MultinomialNB()\n",
        "nb_model_on_books.fit(X_books, y_books)\n",
        "y_pred = nb_model_on_books.predict(X_songs)"
      ],
      "metadata": {
        "id": "ZG0qdcnDl-IV"
      },
      "execution_count": null,
      "outputs": []
    },
    {
      "cell_type": "code",
      "source": [
        "print(classification_report(y_songs, y_pred))"
      ],
      "metadata": {
        "id": "FgR4Pr9jl-Sx",
        "colab": {
          "base_uri": "https://localhost:8080/"
        },
        "outputId": "155b05d0-d629-4145-9fa1-20d23298bd8f"
      },
      "execution_count": null,
      "outputs": [
        {
          "output_type": "stream",
          "name": "stdout",
          "text": [
            "              precision    recall  f1-score   support\n",
            "\n",
            "           0       0.50      0.26      0.34      9180\n",
            "           1       0.50      0.74      0.60      9092\n",
            "\n",
            "    accuracy                           0.50     18272\n",
            "   macro avg       0.50      0.50      0.47     18272\n",
            "weighted avg       0.50      0.50      0.47     18272\n",
            "\n"
          ]
        }
      ]
    },
    {
      "cell_type": "code",
      "source": [
        "nb_model_on_songs = MultinomialNB()\n",
        "nb_model_on_songs.fit(X_songs, y_songs)\n",
        "y_pred = nb_model_on_songs.predict(X_books)"
      ],
      "metadata": {
        "id": "3xQGbZD-0mrz"
      },
      "execution_count": null,
      "outputs": []
    },
    {
      "cell_type": "code",
      "source": [
        "print(classification_report(y_books, y_pred))"
      ],
      "metadata": {
        "colab": {
          "base_uri": "https://localhost:8080/"
        },
        "id": "ytiBQgsp0mo6",
        "outputId": "e94837bf-e31d-4302-de32-95686d0f2b2e"
      },
      "execution_count": null,
      "outputs": [
        {
          "output_type": "stream",
          "name": "stdout",
          "text": [
            "              precision    recall  f1-score   support\n",
            "\n",
            "           0       0.46      0.61      0.53     11538\n",
            "           1       0.44      0.30      0.36     11702\n",
            "\n",
            "    accuracy                           0.46     23240\n",
            "   macro avg       0.45      0.46      0.44     23240\n",
            "weighted avg       0.45      0.46      0.44     23240\n",
            "\n"
          ]
        }
      ]
    },
    {
      "cell_type": "markdown",
      "source": [
        "cv"
      ],
      "metadata": {
        "id": "Ryh0yMmz01hR"
      }
    },
    {
      "cell_type": "code",
      "source": [
        "nb_model_on_books_cv = MultinomialNB()\n",
        "cv_scores = cross_val_score(nb_model_on_books_cv, X_books, y_books, cv=kf, scoring='accuracy')\n",
        "print(f'Cross-validation scores: {cv_scores}')\n",
        "print(f'Mean cross-validation score: {cv_scores.mean()}')"
      ],
      "metadata": {
        "colab": {
          "base_uri": "https://localhost:8080/"
        },
        "id": "oIW5xoah0mha",
        "outputId": "fcffb7b8-2e23-469a-d232-58821d0b8054"
      },
      "execution_count": null,
      "outputs": [
        {
          "output_type": "stream",
          "name": "stdout",
          "text": [
            "Cross-validation scores: [0.86596386 0.8605852  0.85262478 0.85047332 0.85907917]\n",
            "Mean cross-validation score: 0.8577452667814114\n"
          ]
        }
      ]
    },
    {
      "cell_type": "code",
      "source": [
        "nb_model_on_songs_cv = MultinomialNB()\n",
        "cv_scores = cross_val_score(nb_model_on_songs_cv, X_songs, y_songs, cv=kf, scoring='accuracy')\n",
        "print(f'Cross-validation scores: {cv_scores}')\n",
        "print(f'Mean cross-validation score: {cv_scores.mean()}')"
      ],
      "metadata": {
        "colab": {
          "base_uri": "https://localhost:8080/"
        },
        "id": "WEZd6t1s1bPS",
        "outputId": "24e76113-9f1b-4585-c4b9-677bde3e098c"
      },
      "execution_count": null,
      "outputs": [
        {
          "output_type": "stream",
          "name": "stdout",
          "text": [
            "Cross-validation scores: [0.7119015  0.71928865 0.70908593 0.72194855 0.71182266]\n",
            "Mean cross-validation score: 0.7148094586671878\n"
          ]
        }
      ]
    },
    {
      "cell_type": "markdown",
      "source": [
        "#### Logistic Regression"
      ],
      "metadata": {
        "id": "PIq3FrHDCbtW"
      }
    },
    {
      "cell_type": "code",
      "source": [
        "from sklearn.linear_model import LogisticRegression"
      ],
      "metadata": {
        "id": "I6YLPorZeOD-"
      },
      "execution_count": null,
      "outputs": []
    },
    {
      "cell_type": "code",
      "source": [
        "param_grid_lr = {\n",
        "    'C': [0.1, 1, 10, 100],\n",
        "    'solver': ['liblinear', 'lbfgs'],\n",
        "    'max_iter': [100, 200, 500, 1000]\n",
        "}\n",
        "# kf = KFold(n_splits=5, shuffle=True, random_state=5)\n",
        "grid_search_lr = GridSearchCV(LogisticRegression(random_state=5), param_grid_lr, cv=kf, scoring='accuracy', n_jobs=-1, verbose=2)\n",
        "grid_search_lr.fit(X_books, y_books)"
      ],
      "metadata": {
        "id": "ojO2ArR5LEbM",
        "colab": {
          "base_uri": "https://localhost:8080/",
          "height": 298
        },
        "outputId": "d8cbde34-8157-491a-cfa3-b9bb3a9a7200"
      },
      "execution_count": null,
      "outputs": [
        {
          "output_type": "stream",
          "name": "stdout",
          "text": [
            "Fitting 5 folds for each of 32 candidates, totalling 160 fits\n"
          ]
        },
        {
          "output_type": "stream",
          "name": "stderr",
          "text": [
            "/usr/local/lib/python3.10/dist-packages/sklearn/linear_model/_logistic.py:458: ConvergenceWarning: lbfgs failed to converge (status=1):\n",
            "STOP: TOTAL NO. of ITERATIONS REACHED LIMIT.\n",
            "\n",
            "Increase the number of iterations (max_iter) or scale the data as shown in:\n",
            "    https://scikit-learn.org/stable/modules/preprocessing.html\n",
            "Please also refer to the documentation for alternative solver options:\n",
            "    https://scikit-learn.org/stable/modules/linear_model.html#logistic-regression\n",
            "  n_iter_i = _check_optimize_result(\n"
          ]
        },
        {
          "output_type": "execute_result",
          "data": {
            "text/plain": [
              "GridSearchCV(cv=KFold(n_splits=5, random_state=0, shuffle=True),\n",
              "             estimator=LogisticRegression(random_state=5), n_jobs=-1,\n",
              "             param_grid={'C': [0.1, 1, 10, 100],\n",
              "                         'max_iter': [100, 200, 500, 1000],\n",
              "                         'solver': ['liblinear', 'lbfgs']},\n",
              "             scoring='accuracy', verbose=2)"
            ],
            "text/html": [
              "<style>#sk-container-id-1 {color: black;background-color: white;}#sk-container-id-1 pre{padding: 0;}#sk-container-id-1 div.sk-toggleable {background-color: white;}#sk-container-id-1 label.sk-toggleable__label {cursor: pointer;display: block;width: 100%;margin-bottom: 0;padding: 0.3em;box-sizing: border-box;text-align: center;}#sk-container-id-1 label.sk-toggleable__label-arrow:before {content: \"▸\";float: left;margin-right: 0.25em;color: #696969;}#sk-container-id-1 label.sk-toggleable__label-arrow:hover:before {color: black;}#sk-container-id-1 div.sk-estimator:hover label.sk-toggleable__label-arrow:before {color: black;}#sk-container-id-1 div.sk-toggleable__content {max-height: 0;max-width: 0;overflow: hidden;text-align: left;background-color: #f0f8ff;}#sk-container-id-1 div.sk-toggleable__content pre {margin: 0.2em;color: black;border-radius: 0.25em;background-color: #f0f8ff;}#sk-container-id-1 input.sk-toggleable__control:checked~div.sk-toggleable__content {max-height: 200px;max-width: 100%;overflow: auto;}#sk-container-id-1 input.sk-toggleable__control:checked~label.sk-toggleable__label-arrow:before {content: \"▾\";}#sk-container-id-1 div.sk-estimator input.sk-toggleable__control:checked~label.sk-toggleable__label {background-color: #d4ebff;}#sk-container-id-1 div.sk-label input.sk-toggleable__control:checked~label.sk-toggleable__label {background-color: #d4ebff;}#sk-container-id-1 input.sk-hidden--visually {border: 0;clip: rect(1px 1px 1px 1px);clip: rect(1px, 1px, 1px, 1px);height: 1px;margin: -1px;overflow: hidden;padding: 0;position: absolute;width: 1px;}#sk-container-id-1 div.sk-estimator {font-family: monospace;background-color: #f0f8ff;border: 1px dotted black;border-radius: 0.25em;box-sizing: border-box;margin-bottom: 0.5em;}#sk-container-id-1 div.sk-estimator:hover {background-color: #d4ebff;}#sk-container-id-1 div.sk-parallel-item::after {content: \"\";width: 100%;border-bottom: 1px solid gray;flex-grow: 1;}#sk-container-id-1 div.sk-label:hover label.sk-toggleable__label {background-color: #d4ebff;}#sk-container-id-1 div.sk-serial::before {content: \"\";position: absolute;border-left: 1px solid gray;box-sizing: border-box;top: 0;bottom: 0;left: 50%;z-index: 0;}#sk-container-id-1 div.sk-serial {display: flex;flex-direction: column;align-items: center;background-color: white;padding-right: 0.2em;padding-left: 0.2em;position: relative;}#sk-container-id-1 div.sk-item {position: relative;z-index: 1;}#sk-container-id-1 div.sk-parallel {display: flex;align-items: stretch;justify-content: center;background-color: white;position: relative;}#sk-container-id-1 div.sk-item::before, #sk-container-id-1 div.sk-parallel-item::before {content: \"\";position: absolute;border-left: 1px solid gray;box-sizing: border-box;top: 0;bottom: 0;left: 50%;z-index: -1;}#sk-container-id-1 div.sk-parallel-item {display: flex;flex-direction: column;z-index: 1;position: relative;background-color: white;}#sk-container-id-1 div.sk-parallel-item:first-child::after {align-self: flex-end;width: 50%;}#sk-container-id-1 div.sk-parallel-item:last-child::after {align-self: flex-start;width: 50%;}#sk-container-id-1 div.sk-parallel-item:only-child::after {width: 0;}#sk-container-id-1 div.sk-dashed-wrapped {border: 1px dashed gray;margin: 0 0.4em 0.5em 0.4em;box-sizing: border-box;padding-bottom: 0.4em;background-color: white;}#sk-container-id-1 div.sk-label label {font-family: monospace;font-weight: bold;display: inline-block;line-height: 1.2em;}#sk-container-id-1 div.sk-label-container {text-align: center;}#sk-container-id-1 div.sk-container {/* jupyter's `normalize.less` sets `[hidden] { display: none; }` but bootstrap.min.css set `[hidden] { display: none !important; }` so we also need the `!important` here to be able to override the default hidden behavior on the sphinx rendered scikit-learn.org. See: https://github.com/scikit-learn/scikit-learn/issues/21755 */display: inline-block !important;position: relative;}#sk-container-id-1 div.sk-text-repr-fallback {display: none;}</style><div id=\"sk-container-id-1\" class=\"sk-top-container\"><div class=\"sk-text-repr-fallback\"><pre>GridSearchCV(cv=KFold(n_splits=5, random_state=0, shuffle=True),\n",
              "             estimator=LogisticRegression(random_state=5), n_jobs=-1,\n",
              "             param_grid={&#x27;C&#x27;: [0.1, 1, 10, 100],\n",
              "                         &#x27;max_iter&#x27;: [100, 200, 500, 1000],\n",
              "                         &#x27;solver&#x27;: [&#x27;liblinear&#x27;, &#x27;lbfgs&#x27;]},\n",
              "             scoring=&#x27;accuracy&#x27;, verbose=2)</pre><b>In a Jupyter environment, please rerun this cell to show the HTML representation or trust the notebook. <br />On GitHub, the HTML representation is unable to render, please try loading this page with nbviewer.org.</b></div><div class=\"sk-container\" hidden><div class=\"sk-item sk-dashed-wrapped\"><div class=\"sk-label-container\"><div class=\"sk-label sk-toggleable\"><input class=\"sk-toggleable__control sk-hidden--visually\" id=\"sk-estimator-id-1\" type=\"checkbox\" ><label for=\"sk-estimator-id-1\" class=\"sk-toggleable__label sk-toggleable__label-arrow\">GridSearchCV</label><div class=\"sk-toggleable__content\"><pre>GridSearchCV(cv=KFold(n_splits=5, random_state=0, shuffle=True),\n",
              "             estimator=LogisticRegression(random_state=5), n_jobs=-1,\n",
              "             param_grid={&#x27;C&#x27;: [0.1, 1, 10, 100],\n",
              "                         &#x27;max_iter&#x27;: [100, 200, 500, 1000],\n",
              "                         &#x27;solver&#x27;: [&#x27;liblinear&#x27;, &#x27;lbfgs&#x27;]},\n",
              "             scoring=&#x27;accuracy&#x27;, verbose=2)</pre></div></div></div><div class=\"sk-parallel\"><div class=\"sk-parallel-item\"><div class=\"sk-item\"><div class=\"sk-label-container\"><div class=\"sk-label sk-toggleable\"><input class=\"sk-toggleable__control sk-hidden--visually\" id=\"sk-estimator-id-2\" type=\"checkbox\" ><label for=\"sk-estimator-id-2\" class=\"sk-toggleable__label sk-toggleable__label-arrow\">estimator: LogisticRegression</label><div class=\"sk-toggleable__content\"><pre>LogisticRegression(random_state=5)</pre></div></div></div><div class=\"sk-serial\"><div class=\"sk-item\"><div class=\"sk-estimator sk-toggleable\"><input class=\"sk-toggleable__control sk-hidden--visually\" id=\"sk-estimator-id-3\" type=\"checkbox\" ><label for=\"sk-estimator-id-3\" class=\"sk-toggleable__label sk-toggleable__label-arrow\">LogisticRegression</label><div class=\"sk-toggleable__content\"><pre>LogisticRegression(random_state=5)</pre></div></div></div></div></div></div></div></div></div></div>"
            ]
          },
          "metadata": {},
          "execution_count": 97
        }
      ]
    },
    {
      "cell_type": "code",
      "source": [
        "print(\"Best parameters found: \", grid_search_lr.best_params_)\n",
        "print(\"Best cross-validation score: \", grid_search_lr.best_score_)"
      ],
      "metadata": {
        "colab": {
          "base_uri": "https://localhost:8080/"
        },
        "id": "cxp3sLSF2MB6",
        "outputId": "e251c579-5399-4873-cab5-16bcac6d66d4"
      },
      "execution_count": null,
      "outputs": [
        {
          "output_type": "stream",
          "name": "stdout",
          "text": [
            "Best parameters found:  {'C': 10, 'max_iter': 200, 'solver': 'lbfgs'}\n",
            "Best cross-validation score:  0.8658347676419966\n"
          ]
        }
      ]
    },
    {
      "cell_type": "code",
      "source": [
        "lr_model_on_books = LogisticRegression(max_iter=200, C=10, solver='liblinear', random_state=5)\n",
        "lr_model_on_books.fit(X_books, y_books)\n",
        "y_pred = lr_model_on_books.predict(X_songs)"
      ],
      "metadata": {
        "id": "um-z5PYNeOJL"
      },
      "execution_count": null,
      "outputs": []
    },
    {
      "cell_type": "code",
      "source": [
        "print(classification_report(y_songs, y_pred))"
      ],
      "metadata": {
        "colab": {
          "base_uri": "https://localhost:8080/"
        },
        "id": "-p-4T29CCkgq",
        "outputId": "d91e6eef-3ccf-4e5c-a081-5de0eb735a2d"
      },
      "execution_count": null,
      "outputs": [
        {
          "output_type": "stream",
          "name": "stdout",
          "text": [
            "              precision    recall  f1-score   support\n",
            "\n",
            "           0       0.50      0.46      0.48      9180\n",
            "           1       0.49      0.53      0.51      9092\n",
            "\n",
            "    accuracy                           0.49     18272\n",
            "   macro avg       0.49      0.49      0.49     18272\n",
            "weighted avg       0.49      0.49      0.49     18272\n",
            "\n"
          ]
        }
      ]
    },
    {
      "cell_type": "code",
      "source": [
        "lr_model_on_songs = LogisticRegression(max_iter=200, C=10, solver='liblinear', random_state=5)\n",
        "lr_model_on_songs.fit(X_songs, y_songs)\n",
        "y_pred = lr_model_on_songs.predict(X_books)"
      ],
      "metadata": {
        "id": "LA8RnAho3cUk"
      },
      "execution_count": null,
      "outputs": []
    },
    {
      "cell_type": "code",
      "source": [
        "print(classification_report(y_books, y_pred))"
      ],
      "metadata": {
        "colab": {
          "base_uri": "https://localhost:8080/"
        },
        "id": "Eyc7WPjm3cPX",
        "outputId": "20b80fb2-ea70-4132-a360-afd892405580"
      },
      "execution_count": null,
      "outputs": [
        {
          "output_type": "stream",
          "name": "stdout",
          "text": [
            "              precision    recall  f1-score   support\n",
            "\n",
            "           0       0.47      0.48      0.48     11538\n",
            "           1       0.48      0.47      0.48     11702\n",
            "\n",
            "    accuracy                           0.48     23240\n",
            "   macro avg       0.48      0.48      0.48     23240\n",
            "weighted avg       0.48      0.48      0.48     23240\n",
            "\n"
          ]
        }
      ]
    },
    {
      "cell_type": "markdown",
      "source": [
        "cv"
      ],
      "metadata": {
        "id": "MTf79_m23qaq"
      }
    },
    {
      "cell_type": "code",
      "source": [
        "lr_model_on_books_cv = LogisticRegression(max_iter=200, C=10, solver='liblinear', random_state=5)\n",
        "cv_scores = cross_val_score(lr_model_on_books_cv, X_books, y_books, cv=kf, scoring='accuracy')\n",
        "print(f'Cross-validation scores: {cv_scores}')\n",
        "print(f'Mean cross-validation score: {cv_scores.mean()}')"
      ],
      "metadata": {
        "colab": {
          "base_uri": "https://localhost:8080/"
        },
        "id": "04blhhji3cMQ",
        "outputId": "91bc8152-3d57-4459-c6fa-6de127538505"
      },
      "execution_count": null,
      "outputs": [
        {
          "output_type": "stream",
          "name": "stdout",
          "text": [
            "Cross-validation scores: [0.86876076 0.8689759  0.86273666 0.85886403 0.86962134]\n",
            "Mean cross-validation score: 0.8657917383820999\n"
          ]
        }
      ]
    },
    {
      "cell_type": "code",
      "source": [
        "lr_model_on_songs_cv = LogisticRegression(max_iter=200, C=10, solver='liblinear', random_state=5)\n",
        "cv_scores = cross_val_score(lr_model_on_songs_cv, X_songs, y_songs, cv=kf, scoring='accuracy')\n",
        "print(f'Cross-validation scores: {cv_scores}')\n",
        "print(f'Mean cross-validation score: {cv_scores.mean()}')"
      ],
      "metadata": {
        "colab": {
          "base_uri": "https://localhost:8080/"
        },
        "id": "uSnJro7m3zHq",
        "outputId": "b88bf58b-5204-4846-d7f0-63469618ff2b"
      },
      "execution_count": null,
      "outputs": [
        {
          "output_type": "stream",
          "name": "stdout",
          "text": [
            "Cross-validation scores: [0.73132695 0.74062927 0.72605364 0.72851669 0.71866448]\n",
            "Mean cross-validation score: 0.7290382071032101\n"
          ]
        }
      ]
    },
    {
      "cell_type": "markdown",
      "source": [
        "#### Decision trees"
      ],
      "metadata": {
        "id": "X8me9l3KDcYc"
      }
    },
    {
      "cell_type": "code",
      "source": [
        "from sklearn.tree import DecisionTreeClassifier"
      ],
      "metadata": {
        "id": "ThS-oZ-lDncs"
      },
      "execution_count": null,
      "outputs": []
    },
    {
      "cell_type": "code",
      "source": [
        "param_grid_dt = {\n",
        "    'max_depth': [10, 20, 30],\n",
        "    'min_samples_split': [2, 5, 10],\n",
        "    'min_samples_leaf': [1, 2, 4],\n",
        "    'criterion': ['gini', 'entropy']\n",
        "}\n",
        "\n",
        "grid_search_dt = GridSearchCV(DecisionTreeClassifier(random_state=5), param_grid_dt, cv=kf, scoring='accuracy', n_jobs=-1, verbose=2)\n",
        "grid_search_dt.fit(X_books, y_books)"
      ],
      "metadata": {
        "colab": {
          "base_uri": "https://localhost:8080/",
          "height": 136
        },
        "id": "Poa6z0u3D4Kh",
        "outputId": "4221e401-c812-4264-bc4a-55fc2207a1bf"
      },
      "execution_count": null,
      "outputs": [
        {
          "output_type": "stream",
          "name": "stdout",
          "text": [
            "Fitting 5 folds for each of 54 candidates, totalling 270 fits\n"
          ]
        },
        {
          "output_type": "execute_result",
          "data": {
            "text/plain": [
              "GridSearchCV(cv=KFold(n_splits=5, random_state=0, shuffle=True),\n",
              "             estimator=DecisionTreeClassifier(random_state=5), n_jobs=-1,\n",
              "             param_grid={'criterion': ['gini', 'entropy'],\n",
              "                         'max_depth': [10, 20, 30],\n",
              "                         'min_samples_leaf': [1, 2, 4],\n",
              "                         'min_samples_split': [2, 5, 10]},\n",
              "             scoring='accuracy', verbose=2)"
            ],
            "text/html": [
              "<style>#sk-container-id-2 {color: black;background-color: white;}#sk-container-id-2 pre{padding: 0;}#sk-container-id-2 div.sk-toggleable {background-color: white;}#sk-container-id-2 label.sk-toggleable__label {cursor: pointer;display: block;width: 100%;margin-bottom: 0;padding: 0.3em;box-sizing: border-box;text-align: center;}#sk-container-id-2 label.sk-toggleable__label-arrow:before {content: \"▸\";float: left;margin-right: 0.25em;color: #696969;}#sk-container-id-2 label.sk-toggleable__label-arrow:hover:before {color: black;}#sk-container-id-2 div.sk-estimator:hover label.sk-toggleable__label-arrow:before {color: black;}#sk-container-id-2 div.sk-toggleable__content {max-height: 0;max-width: 0;overflow: hidden;text-align: left;background-color: #f0f8ff;}#sk-container-id-2 div.sk-toggleable__content pre {margin: 0.2em;color: black;border-radius: 0.25em;background-color: #f0f8ff;}#sk-container-id-2 input.sk-toggleable__control:checked~div.sk-toggleable__content {max-height: 200px;max-width: 100%;overflow: auto;}#sk-container-id-2 input.sk-toggleable__control:checked~label.sk-toggleable__label-arrow:before {content: \"▾\";}#sk-container-id-2 div.sk-estimator input.sk-toggleable__control:checked~label.sk-toggleable__label {background-color: #d4ebff;}#sk-container-id-2 div.sk-label input.sk-toggleable__control:checked~label.sk-toggleable__label {background-color: #d4ebff;}#sk-container-id-2 input.sk-hidden--visually {border: 0;clip: rect(1px 1px 1px 1px);clip: rect(1px, 1px, 1px, 1px);height: 1px;margin: -1px;overflow: hidden;padding: 0;position: absolute;width: 1px;}#sk-container-id-2 div.sk-estimator {font-family: monospace;background-color: #f0f8ff;border: 1px dotted black;border-radius: 0.25em;box-sizing: border-box;margin-bottom: 0.5em;}#sk-container-id-2 div.sk-estimator:hover {background-color: #d4ebff;}#sk-container-id-2 div.sk-parallel-item::after {content: \"\";width: 100%;border-bottom: 1px solid gray;flex-grow: 1;}#sk-container-id-2 div.sk-label:hover label.sk-toggleable__label {background-color: #d4ebff;}#sk-container-id-2 div.sk-serial::before {content: \"\";position: absolute;border-left: 1px solid gray;box-sizing: border-box;top: 0;bottom: 0;left: 50%;z-index: 0;}#sk-container-id-2 div.sk-serial {display: flex;flex-direction: column;align-items: center;background-color: white;padding-right: 0.2em;padding-left: 0.2em;position: relative;}#sk-container-id-2 div.sk-item {position: relative;z-index: 1;}#sk-container-id-2 div.sk-parallel {display: flex;align-items: stretch;justify-content: center;background-color: white;position: relative;}#sk-container-id-2 div.sk-item::before, #sk-container-id-2 div.sk-parallel-item::before {content: \"\";position: absolute;border-left: 1px solid gray;box-sizing: border-box;top: 0;bottom: 0;left: 50%;z-index: -1;}#sk-container-id-2 div.sk-parallel-item {display: flex;flex-direction: column;z-index: 1;position: relative;background-color: white;}#sk-container-id-2 div.sk-parallel-item:first-child::after {align-self: flex-end;width: 50%;}#sk-container-id-2 div.sk-parallel-item:last-child::after {align-self: flex-start;width: 50%;}#sk-container-id-2 div.sk-parallel-item:only-child::after {width: 0;}#sk-container-id-2 div.sk-dashed-wrapped {border: 1px dashed gray;margin: 0 0.4em 0.5em 0.4em;box-sizing: border-box;padding-bottom: 0.4em;background-color: white;}#sk-container-id-2 div.sk-label label {font-family: monospace;font-weight: bold;display: inline-block;line-height: 1.2em;}#sk-container-id-2 div.sk-label-container {text-align: center;}#sk-container-id-2 div.sk-container {/* jupyter's `normalize.less` sets `[hidden] { display: none; }` but bootstrap.min.css set `[hidden] { display: none !important; }` so we also need the `!important` here to be able to override the default hidden behavior on the sphinx rendered scikit-learn.org. See: https://github.com/scikit-learn/scikit-learn/issues/21755 */display: inline-block !important;position: relative;}#sk-container-id-2 div.sk-text-repr-fallback {display: none;}</style><div id=\"sk-container-id-2\" class=\"sk-top-container\"><div class=\"sk-text-repr-fallback\"><pre>GridSearchCV(cv=KFold(n_splits=5, random_state=0, shuffle=True),\n",
              "             estimator=DecisionTreeClassifier(random_state=5), n_jobs=-1,\n",
              "             param_grid={&#x27;criterion&#x27;: [&#x27;gini&#x27;, &#x27;entropy&#x27;],\n",
              "                         &#x27;max_depth&#x27;: [10, 20, 30],\n",
              "                         &#x27;min_samples_leaf&#x27;: [1, 2, 4],\n",
              "                         &#x27;min_samples_split&#x27;: [2, 5, 10]},\n",
              "             scoring=&#x27;accuracy&#x27;, verbose=2)</pre><b>In a Jupyter environment, please rerun this cell to show the HTML representation or trust the notebook. <br />On GitHub, the HTML representation is unable to render, please try loading this page with nbviewer.org.</b></div><div class=\"sk-container\" hidden><div class=\"sk-item sk-dashed-wrapped\"><div class=\"sk-label-container\"><div class=\"sk-label sk-toggleable\"><input class=\"sk-toggleable__control sk-hidden--visually\" id=\"sk-estimator-id-4\" type=\"checkbox\" ><label for=\"sk-estimator-id-4\" class=\"sk-toggleable__label sk-toggleable__label-arrow\">GridSearchCV</label><div class=\"sk-toggleable__content\"><pre>GridSearchCV(cv=KFold(n_splits=5, random_state=0, shuffle=True),\n",
              "             estimator=DecisionTreeClassifier(random_state=5), n_jobs=-1,\n",
              "             param_grid={&#x27;criterion&#x27;: [&#x27;gini&#x27;, &#x27;entropy&#x27;],\n",
              "                         &#x27;max_depth&#x27;: [10, 20, 30],\n",
              "                         &#x27;min_samples_leaf&#x27;: [1, 2, 4],\n",
              "                         &#x27;min_samples_split&#x27;: [2, 5, 10]},\n",
              "             scoring=&#x27;accuracy&#x27;, verbose=2)</pre></div></div></div><div class=\"sk-parallel\"><div class=\"sk-parallel-item\"><div class=\"sk-item\"><div class=\"sk-label-container\"><div class=\"sk-label sk-toggleable\"><input class=\"sk-toggleable__control sk-hidden--visually\" id=\"sk-estimator-id-5\" type=\"checkbox\" ><label for=\"sk-estimator-id-5\" class=\"sk-toggleable__label sk-toggleable__label-arrow\">estimator: DecisionTreeClassifier</label><div class=\"sk-toggleable__content\"><pre>DecisionTreeClassifier(random_state=5)</pre></div></div></div><div class=\"sk-serial\"><div class=\"sk-item\"><div class=\"sk-estimator sk-toggleable\"><input class=\"sk-toggleable__control sk-hidden--visually\" id=\"sk-estimator-id-6\" type=\"checkbox\" ><label for=\"sk-estimator-id-6\" class=\"sk-toggleable__label sk-toggleable__label-arrow\">DecisionTreeClassifier</label><div class=\"sk-toggleable__content\"><pre>DecisionTreeClassifier(random_state=5)</pre></div></div></div></div></div></div></div></div></div></div>"
            ]
          },
          "metadata": {},
          "execution_count": 117
        }
      ]
    },
    {
      "cell_type": "code",
      "source": [
        "print(\"Best parameters found: \", grid_search_dt.best_params_)\n",
        "print(\"Best cross-validation score: \", grid_search_dt.best_score_)"
      ],
      "metadata": {
        "colab": {
          "base_uri": "https://localhost:8080/"
        },
        "id": "IUK19x7fEHGv",
        "outputId": "8eb5adb4-1165-4665-fde7-94844cbe3e78"
      },
      "execution_count": null,
      "outputs": [
        {
          "output_type": "stream",
          "name": "stdout",
          "text": [
            "Best parameters found:  {'criterion': 'gini', 'max_depth': 30, 'min_samples_leaf': 1, 'min_samples_split': 10}\n",
            "Best cross-validation score:  0.7501721170395869\n"
          ]
        }
      ]
    },
    {
      "cell_type": "code",
      "source": [
        "dt_model_on_books = DecisionTreeClassifier(criterion='gini', max_depth=30, min_samples_leaf=1, min_samples_split=10, random_state=0)\n",
        "dt_model_on_books.fit(X_books, y_books)\n",
        "y_pred = dt_model_on_books.predict(X_songs)"
      ],
      "metadata": {
        "id": "9z21RAelDn2l"
      },
      "execution_count": null,
      "outputs": []
    },
    {
      "cell_type": "code",
      "source": [
        "print(classification_report(y_songs, y_pred))"
      ],
      "metadata": {
        "colab": {
          "base_uri": "https://localhost:8080/"
        },
        "id": "AisQbFg9Dwxj",
        "outputId": "6792884a-843a-4201-9410-74aa898cfb8d"
      },
      "execution_count": null,
      "outputs": [
        {
          "output_type": "stream",
          "name": "stdout",
          "text": [
            "              precision    recall  f1-score   support\n",
            "\n",
            "           0       0.51      0.90      0.65      9180\n",
            "           1       0.56      0.13      0.21      9092\n",
            "\n",
            "    accuracy                           0.52     18272\n",
            "   macro avg       0.53      0.51      0.43     18272\n",
            "weighted avg       0.53      0.52      0.43     18272\n",
            "\n"
          ]
        }
      ]
    },
    {
      "cell_type": "code",
      "source": [
        "dt_model_on_songs = DecisionTreeClassifier(criterion='gini', max_depth=30, min_samples_leaf=1, min_samples_split=10, random_state=0)\n",
        "dt_model_on_songs.fit(X_songs, y_songs)\n",
        "y_pred = dt_model_on_songs.predict(X_books)"
      ],
      "metadata": {
        "id": "CAJ4PK8tFJAF"
      },
      "execution_count": null,
      "outputs": []
    },
    {
      "cell_type": "code",
      "source": [
        "print(classification_report(y_books, y_pred))"
      ],
      "metadata": {
        "colab": {
          "base_uri": "https://localhost:8080/"
        },
        "id": "VIGGgDBzFOQk",
        "outputId": "44c4e7ab-30c0-49a7-9930-af1cdcc46225"
      },
      "execution_count": null,
      "outputs": [
        {
          "output_type": "stream",
          "name": "stdout",
          "text": [
            "              precision    recall  f1-score   support\n",
            "\n",
            "           0       0.32      0.02      0.03     11538\n",
            "           1       0.50      0.97      0.66     11702\n",
            "\n",
            "    accuracy                           0.49     23240\n",
            "   macro avg       0.41      0.49      0.34     23240\n",
            "weighted avg       0.41      0.49      0.35     23240\n",
            "\n"
          ]
        }
      ]
    },
    {
      "cell_type": "markdown",
      "source": [
        "cv"
      ],
      "metadata": {
        "id": "4_nUWEknFP6B"
      }
    },
    {
      "cell_type": "code",
      "source": [
        "dt_model_cv_books = DecisionTreeClassifier(criterion='gini', max_depth=30, min_samples_leaf=1, min_samples_split=10, random_state=0)\n",
        "cv_scores = cross_val_score(dt_model_cv_books, X_books, y_books, cv=kf, scoring='accuracy')\n",
        "print(f'Cross-validation scores: {cv_scores}')\n",
        "print(f'Mean cross-validation score: {cv_scores.mean()}')"
      ],
      "metadata": {
        "colab": {
          "base_uri": "https://localhost:8080/"
        },
        "id": "y958hycjDyLT",
        "outputId": "81c215d4-429c-4ae0-c245-a9827a7deddb"
      },
      "execution_count": null,
      "outputs": [
        {
          "output_type": "stream",
          "name": "stdout",
          "text": [
            "Cross-validation scores: [0.75494836 0.75064544 0.75021515 0.74505164 0.7439759 ]\n",
            "Mean cross-validation score: 0.7489672977624784\n"
          ]
        }
      ]
    },
    {
      "cell_type": "code",
      "source": [
        "dt_model_cv_songs = DecisionTreeClassifier(criterion='gini', max_depth=30, min_samples_leaf=1, min_samples_split=10, random_state=0)\n",
        "cv_scores = cross_val_score(dt_model_cv_songs, X_songs, y_songs, cv=kf, scoring='accuracy')\n",
        "print(f'Cross-validation scores: {cv_scores}')\n",
        "print(f'Mean cross-validation score: {cv_scores.mean()}')"
      ],
      "metadata": {
        "id": "bl30gG8BD1h4",
        "colab": {
          "base_uri": "https://localhost:8080/"
        },
        "outputId": "43bc9e07-b5c3-45b7-cded-901a07677922"
      },
      "execution_count": null,
      "outputs": [
        {
          "output_type": "stream",
          "name": "stdout",
          "text": [
            "Cross-validation scores: [0.62380301 0.62708618 0.62534209 0.61904762 0.61877395]\n",
            "Mean cross-validation score: 0.6228105698307124\n"
          ]
        }
      ]
    },
    {
      "cell_type": "markdown",
      "source": [
        "#### Random forest"
      ],
      "metadata": {
        "id": "_NrvqE-ceLcY"
      }
    },
    {
      "cell_type": "code",
      "source": [
        "from sklearn.ensemble import RandomForestClassifier"
      ],
      "metadata": {
        "id": "_8jeTrv7eLyt"
      },
      "execution_count": null,
      "outputs": []
    },
    {
      "cell_type": "code",
      "source": [
        "param_grid_rf = {\n",
        "    'n_estimators': [50, 100, 200],\n",
        "    'max_depth': [10, 20, 30],\n",
        "    'min_samples_split': [2, 5, 10],\n",
        "    'min_samples_leaf': [1, 2, 4],\n",
        "    'criterion': ['gini', 'entropy']\n",
        "}"
      ],
      "metadata": {
        "id": "NZ2oFbJFeQqJ"
      },
      "execution_count": null,
      "outputs": []
    },
    {
      "cell_type": "code",
      "source": [
        "grid_search_rf = GridSearchCV(RandomForestClassifier(random_state=5), param_grid_rf, cv=kf, scoring='accuracy', n_jobs=-1, verbose=2)\n",
        "grid_search_rf.fit(X_books, y_books)"
      ],
      "metadata": {
        "colab": {
          "base_uri": "https://localhost:8080/",
          "height": 136
        },
        "id": "AcMcTYM6eQnj",
        "outputId": "99598849-a847-42a2-a877-8f14e1208a74"
      },
      "execution_count": null,
      "outputs": [
        {
          "output_type": "stream",
          "name": "stdout",
          "text": [
            "Fitting 5 folds for each of 162 candidates, totalling 810 fits\n"
          ]
        },
        {
          "output_type": "execute_result",
          "data": {
            "text/plain": [
              "GridSearchCV(cv=KFold(n_splits=5, random_state=0, shuffle=True),\n",
              "             estimator=RandomForestClassifier(random_state=5), n_jobs=-1,\n",
              "             param_grid={'criterion': ['gini', 'entropy'],\n",
              "                         'max_depth': [10, 20, 30],\n",
              "                         'min_samples_leaf': [1, 2, 4],\n",
              "                         'min_samples_split': [2, 5, 10],\n",
              "                         'n_estimators': [50, 100, 200]},\n",
              "             scoring='accuracy', verbose=2)"
            ],
            "text/html": [
              "<style>#sk-container-id-3 {color: black;background-color: white;}#sk-container-id-3 pre{padding: 0;}#sk-container-id-3 div.sk-toggleable {background-color: white;}#sk-container-id-3 label.sk-toggleable__label {cursor: pointer;display: block;width: 100%;margin-bottom: 0;padding: 0.3em;box-sizing: border-box;text-align: center;}#sk-container-id-3 label.sk-toggleable__label-arrow:before {content: \"▸\";float: left;margin-right: 0.25em;color: #696969;}#sk-container-id-3 label.sk-toggleable__label-arrow:hover:before {color: black;}#sk-container-id-3 div.sk-estimator:hover label.sk-toggleable__label-arrow:before {color: black;}#sk-container-id-3 div.sk-toggleable__content {max-height: 0;max-width: 0;overflow: hidden;text-align: left;background-color: #f0f8ff;}#sk-container-id-3 div.sk-toggleable__content pre {margin: 0.2em;color: black;border-radius: 0.25em;background-color: #f0f8ff;}#sk-container-id-3 input.sk-toggleable__control:checked~div.sk-toggleable__content {max-height: 200px;max-width: 100%;overflow: auto;}#sk-container-id-3 input.sk-toggleable__control:checked~label.sk-toggleable__label-arrow:before {content: \"▾\";}#sk-container-id-3 div.sk-estimator input.sk-toggleable__control:checked~label.sk-toggleable__label {background-color: #d4ebff;}#sk-container-id-3 div.sk-label input.sk-toggleable__control:checked~label.sk-toggleable__label {background-color: #d4ebff;}#sk-container-id-3 input.sk-hidden--visually {border: 0;clip: rect(1px 1px 1px 1px);clip: rect(1px, 1px, 1px, 1px);height: 1px;margin: -1px;overflow: hidden;padding: 0;position: absolute;width: 1px;}#sk-container-id-3 div.sk-estimator {font-family: monospace;background-color: #f0f8ff;border: 1px dotted black;border-radius: 0.25em;box-sizing: border-box;margin-bottom: 0.5em;}#sk-container-id-3 div.sk-estimator:hover {background-color: #d4ebff;}#sk-container-id-3 div.sk-parallel-item::after {content: \"\";width: 100%;border-bottom: 1px solid gray;flex-grow: 1;}#sk-container-id-3 div.sk-label:hover label.sk-toggleable__label {background-color: #d4ebff;}#sk-container-id-3 div.sk-serial::before {content: \"\";position: absolute;border-left: 1px solid gray;box-sizing: border-box;top: 0;bottom: 0;left: 50%;z-index: 0;}#sk-container-id-3 div.sk-serial {display: flex;flex-direction: column;align-items: center;background-color: white;padding-right: 0.2em;padding-left: 0.2em;position: relative;}#sk-container-id-3 div.sk-item {position: relative;z-index: 1;}#sk-container-id-3 div.sk-parallel {display: flex;align-items: stretch;justify-content: center;background-color: white;position: relative;}#sk-container-id-3 div.sk-item::before, #sk-container-id-3 div.sk-parallel-item::before {content: \"\";position: absolute;border-left: 1px solid gray;box-sizing: border-box;top: 0;bottom: 0;left: 50%;z-index: -1;}#sk-container-id-3 div.sk-parallel-item {display: flex;flex-direction: column;z-index: 1;position: relative;background-color: white;}#sk-container-id-3 div.sk-parallel-item:first-child::after {align-self: flex-end;width: 50%;}#sk-container-id-3 div.sk-parallel-item:last-child::after {align-self: flex-start;width: 50%;}#sk-container-id-3 div.sk-parallel-item:only-child::after {width: 0;}#sk-container-id-3 div.sk-dashed-wrapped {border: 1px dashed gray;margin: 0 0.4em 0.5em 0.4em;box-sizing: border-box;padding-bottom: 0.4em;background-color: white;}#sk-container-id-3 div.sk-label label {font-family: monospace;font-weight: bold;display: inline-block;line-height: 1.2em;}#sk-container-id-3 div.sk-label-container {text-align: center;}#sk-container-id-3 div.sk-container {/* jupyter's `normalize.less` sets `[hidden] { display: none; }` but bootstrap.min.css set `[hidden] { display: none !important; }` so we also need the `!important` here to be able to override the default hidden behavior on the sphinx rendered scikit-learn.org. See: https://github.com/scikit-learn/scikit-learn/issues/21755 */display: inline-block !important;position: relative;}#sk-container-id-3 div.sk-text-repr-fallback {display: none;}</style><div id=\"sk-container-id-3\" class=\"sk-top-container\"><div class=\"sk-text-repr-fallback\"><pre>GridSearchCV(cv=KFold(n_splits=5, random_state=0, shuffle=True),\n",
              "             estimator=RandomForestClassifier(random_state=5), n_jobs=-1,\n",
              "             param_grid={&#x27;criterion&#x27;: [&#x27;gini&#x27;, &#x27;entropy&#x27;],\n",
              "                         &#x27;max_depth&#x27;: [10, 20, 30],\n",
              "                         &#x27;min_samples_leaf&#x27;: [1, 2, 4],\n",
              "                         &#x27;min_samples_split&#x27;: [2, 5, 10],\n",
              "                         &#x27;n_estimators&#x27;: [50, 100, 200]},\n",
              "             scoring=&#x27;accuracy&#x27;, verbose=2)</pre><b>In a Jupyter environment, please rerun this cell to show the HTML representation or trust the notebook. <br />On GitHub, the HTML representation is unable to render, please try loading this page with nbviewer.org.</b></div><div class=\"sk-container\" hidden><div class=\"sk-item sk-dashed-wrapped\"><div class=\"sk-label-container\"><div class=\"sk-label sk-toggleable\"><input class=\"sk-toggleable__control sk-hidden--visually\" id=\"sk-estimator-id-7\" type=\"checkbox\" ><label for=\"sk-estimator-id-7\" class=\"sk-toggleable__label sk-toggleable__label-arrow\">GridSearchCV</label><div class=\"sk-toggleable__content\"><pre>GridSearchCV(cv=KFold(n_splits=5, random_state=0, shuffle=True),\n",
              "             estimator=RandomForestClassifier(random_state=5), n_jobs=-1,\n",
              "             param_grid={&#x27;criterion&#x27;: [&#x27;gini&#x27;, &#x27;entropy&#x27;],\n",
              "                         &#x27;max_depth&#x27;: [10, 20, 30],\n",
              "                         &#x27;min_samples_leaf&#x27;: [1, 2, 4],\n",
              "                         &#x27;min_samples_split&#x27;: [2, 5, 10],\n",
              "                         &#x27;n_estimators&#x27;: [50, 100, 200]},\n",
              "             scoring=&#x27;accuracy&#x27;, verbose=2)</pre></div></div></div><div class=\"sk-parallel\"><div class=\"sk-parallel-item\"><div class=\"sk-item\"><div class=\"sk-label-container\"><div class=\"sk-label sk-toggleable\"><input class=\"sk-toggleable__control sk-hidden--visually\" id=\"sk-estimator-id-8\" type=\"checkbox\" ><label for=\"sk-estimator-id-8\" class=\"sk-toggleable__label sk-toggleable__label-arrow\">estimator: RandomForestClassifier</label><div class=\"sk-toggleable__content\"><pre>RandomForestClassifier(random_state=5)</pre></div></div></div><div class=\"sk-serial\"><div class=\"sk-item\"><div class=\"sk-estimator sk-toggleable\"><input class=\"sk-toggleable__control sk-hidden--visually\" id=\"sk-estimator-id-9\" type=\"checkbox\" ><label for=\"sk-estimator-id-9\" class=\"sk-toggleable__label sk-toggleable__label-arrow\">RandomForestClassifier</label><div class=\"sk-toggleable__content\"><pre>RandomForestClassifier(random_state=5)</pre></div></div></div></div></div></div></div></div></div></div>"
            ]
          },
          "metadata": {},
          "execution_count": 150
        }
      ]
    },
    {
      "cell_type": "code",
      "source": [
        "print(\"Best parameters found: \", grid_search_rf.best_params_)\n",
        "print(\"Best cross-validation score: \", grid_search_rf.best_score_)"
      ],
      "metadata": {
        "colab": {
          "base_uri": "https://localhost:8080/"
        },
        "id": "826apcWXeQb2",
        "outputId": "43810050-dd0d-4d76-bfaa-959b6be31a47"
      },
      "execution_count": null,
      "outputs": [
        {
          "output_type": "stream",
          "name": "stdout",
          "text": [
            "Best parameters found:  {'criterion': 'entropy', 'max_depth': 30, 'min_samples_leaf': 1, 'min_samples_split': 2, 'n_estimators': 100}\n",
            "Best cross-validation score:  0.7829173838209984\n"
          ]
        }
      ]
    },
    {
      "cell_type": "code",
      "source": [
        "rf_model_on_books = RandomForestClassifier(**grid_search_rf.best_params_, random_state=0)\n",
        "rf_model_on_books.fit(X_books, y_books)\n",
        "y_pred_books = rf_model_on_books.predict(X_songs)"
      ],
      "metadata": {
        "id": "QhELLum3fGAd"
      },
      "execution_count": null,
      "outputs": []
    },
    {
      "cell_type": "code",
      "source": [
        "print(classification_report(y_songs, y_pred_books))"
      ],
      "metadata": {
        "colab": {
          "base_uri": "https://localhost:8080/"
        },
        "id": "q4PhhL_DfF9m",
        "outputId": "71cc996b-06bf-49fc-81df-c3895ea1a262"
      },
      "execution_count": null,
      "outputs": [
        {
          "output_type": "stream",
          "name": "stdout",
          "text": [
            "              precision    recall  f1-score   support\n",
            "\n",
            "           0       0.51      0.91      0.65      9180\n",
            "           1       0.54      0.10      0.17      9092\n",
            "\n",
            "    accuracy                           0.51     18272\n",
            "   macro avg       0.52      0.51      0.41     18272\n",
            "weighted avg       0.52      0.51      0.41     18272\n",
            "\n"
          ]
        }
      ]
    },
    {
      "cell_type": "code",
      "source": [
        "rf_model_on_songs = RandomForestClassifier(**grid_search_rf.best_params_, random_state=0)\n",
        "rf_model_on_songs.fit(X_songs, y_songs)\n",
        "y_pred_songs = rf_model_on_songs.predict(X_books)"
      ],
      "metadata": {
        "id": "XnnaKgyOevqh"
      },
      "execution_count": null,
      "outputs": []
    },
    {
      "cell_type": "code",
      "source": [
        "print(classification_report(y_books, y_pred_songs))"
      ],
      "metadata": {
        "colab": {
          "base_uri": "https://localhost:8080/"
        },
        "id": "kx_yKygXewPx",
        "outputId": "8e60ffb7-5f63-46c7-af6e-efc6ed24b2c0"
      },
      "execution_count": null,
      "outputs": [
        {
          "output_type": "stream",
          "name": "stdout",
          "text": [
            "              precision    recall  f1-score   support\n",
            "\n",
            "           0       0.48      0.24      0.32     11538\n",
            "           1       0.50      0.75      0.60     11702\n",
            "\n",
            "    accuracy                           0.49     23240\n",
            "   macro avg       0.49      0.49      0.46     23240\n",
            "weighted avg       0.49      0.49      0.46     23240\n",
            "\n"
          ]
        }
      ]
    },
    {
      "cell_type": "markdown",
      "source": [
        "cv"
      ],
      "metadata": {
        "id": "0BybZfgbfQVf"
      }
    },
    {
      "cell_type": "code",
      "source": [
        "rf_model_cv_books = RandomForestClassifier(**grid_search_rf.best_params_, random_state=0)\n",
        "cv_scores_books = cross_val_score(rf_model_cv_books, X_books, y_books, cv=kf, scoring='accuracy')\n",
        "print(f'Cross-validation scores on Books dataset: {cv_scores_books}')\n",
        "print(f'Mean cross-validation score on Books dataset: {cv_scores_books.mean()}')"
      ],
      "metadata": {
        "colab": {
          "base_uri": "https://localhost:8080/"
        },
        "id": "GSXJOp34ewNa",
        "outputId": "3c6b1013-eb19-4c7d-cd7f-8d10c333753c"
      },
      "execution_count": null,
      "outputs": [
        {
          "output_type": "stream",
          "name": "stdout",
          "text": [
            "Cross-validation scores on Books dataset: [0.78915663 0.78614458 0.7792599  0.78119621 0.77517212]\n",
            "Mean cross-validation score on Books dataset: 0.7821858864027539\n"
          ]
        }
      ]
    },
    {
      "cell_type": "code",
      "source": [
        "rf_model_cv_songs = RandomForestClassifier(**grid_search_rf.best_params_, random_state=0)\n",
        "cv_scores_songs = cross_val_score(rf_model_cv_songs, X_songs, y_songs, cv=kf, scoring='accuracy')\n",
        "print(f'Cross-validation scores on Songs dataset: {cv_scores_songs}')\n",
        "print(f'Mean cross-validation score on Songs dataset: {cv_scores_songs.mean()}')"
      ],
      "metadata": {
        "colab": {
          "base_uri": "https://localhost:8080/"
        },
        "id": "WUFMiL-RewKz",
        "outputId": "f1909be0-203a-47f6-fbd6-b59392415ccc"
      },
      "execution_count": null,
      "outputs": [
        {
          "output_type": "stream",
          "name": "stdout",
          "text": [
            "Cross-validation scores on Songs dataset: [0.69575923 0.69767442 0.69731801 0.7014231  0.68801314]\n",
            "Mean cross-validation score on Songs dataset: 0.6960375788914871\n"
          ]
        }
      ]
    },
    {
      "cell_type": "code",
      "source": [],
      "metadata": {
        "id": "IQImOm7Pev_3"
      },
      "execution_count": null,
      "outputs": []
    }
  ]
}